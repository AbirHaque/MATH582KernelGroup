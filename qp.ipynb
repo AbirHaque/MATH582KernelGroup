{
 "cells": [
  {
   "cell_type": "code",
   "execution_count": 6,
   "metadata": {},
   "outputs": [],
   "source": [
    "import numpy as np\n",
    "import pandas as pd\n",
    "import matplotlib\n",
    "import matplotlib.pyplot as plt"
   ]
  },
  {
   "cell_type": "code",
   "execution_count": 7,
   "metadata": {},
   "outputs": [],
   "source": [
    "from sklearn.model_selection import train_test_split\n",
    "\n",
    "df = pd.read_csv('DiabetesBinaryClassification.csv')\n",
    "# df = pd.read_csv('data.csv', header=None)\n",
    "\n",
    "# Preprocessing data\n",
    "df = df.drop_duplicates()\n",
    "df = df.dropna()\n",
    "\n",
    "\n",
    "X = []\n",
    "y = []\n",
    "for data in df.values:\n",
    "    X.append( np.array( data[ : -1 ], dtype = float ) )\n",
    "    y.append( [ data[ -1 ] ] )\n",
    "\n",
    "    from sklearn.model_selection import train_test_split\n",
    "\n",
    "x = np.asarray( X )\n",
    "y = np.asarray( y )\n",
    "\n",
    "for idn,n in np.ndenumerate(y):\n",
    "  if n == 0:\n",
    "    y[idn] = -1\n",
    "\n",
    "# X = np.array(df.iloc[:, [0,1]])\n",
    "# y = np.array(df.iloc[:, 2])\n",
    "\n",
    "\n",
    "X_train, X_test, y_train, y_test = train_test_split(X, y, test_size=0.5, random_state=1)"
   ]
  },
  {
   "cell_type": "code",
   "execution_count": 8,
   "metadata": {},
   "outputs": [
    {
     "name": "stdout",
     "output_type": "stream",
     "text": [
      "     pcost       dcost       gap    pres   dres\n",
      " 0: -1.4017e+02 -1.0253e+02  4e+03  3e+01  2e-10\n",
      " 1: -2.2325e+01 -9.7954e+01  2e+02  1e+00  2e-10\n",
      " 2: -1.7448e+01 -5.5815e+01  5e+01  2e-01  3e-11\n",
      " 3: -1.8497e+01 -2.4736e+01  7e+00  2e-02  1e-11\n",
      " 4: -2.0349e+01 -2.2019e+01  2e+00  4e-03  2e-11\n",
      " 5: -2.0820e+01 -2.1397e+01  6e-01  9e-04  2e-11\n",
      " 6: -2.0946e+01 -2.1230e+01  3e-01  4e-04  2e-11\n",
      " 7: -2.1035e+01 -2.1111e+01  8e-02  7e-05  2e-11\n",
      " 8: -2.1058e+01 -2.1083e+01  3e-02  2e-05  1e-11\n",
      " 9: -2.1067e+01 -2.1072e+01  5e-03  3e-06  2e-11\n",
      "10: -2.1069e+01 -2.1070e+01  6e-04  1e-07  2e-11\n",
      "11: -2.1069e+01 -2.1069e+01  1e-05  3e-09  2e-11\n",
      "Optimal solution found.\n"
     ]
    }
   ],
   "source": [
    "from cvxopt import matrix, solvers\n",
    "\n",
    "def fit_model(X_train: np.array, y_train: np.array, C: float=0.1) -> tuple[int,int]:\n",
    "\n",
    "  f = open( 'their.txt', 'w' )\n",
    "  f.write( str( X_train ) + '\\n' )\n",
    "  f.write( str( y_train ) + '\\n' )\n",
    "  f.close()\n",
    "  X_train = np.asarray( X_train )\n",
    "  m, n = X_train.shape\n",
    "  K = np.matmul(X_train, X_train.T)\n",
    "  P = matrix(np.matmul(y_train,y_train.T) * K)\n",
    "  q = matrix(np.ones((m, 1)) * -1)\n",
    "  A = matrix((y_train.reshape(1, -1)))\n",
    "  b = matrix(np.zeros(1))          \n",
    "  G = matrix(np.vstack((np.eye(m) * -1, np.eye(m))))        \n",
    "  h = matrix(np.hstack((np.zeros(m), np.ones(m) * C)))\n",
    "\n",
    "  sol = solvers.qp(P, q, G, h, A, b)\n",
    "  alphas = np.array(sol[\"x\"])\n",
    "\n",
    "  w = np.dot((y_train * alphas).T, X_train)[0]\n",
    "  S = (alphas > 1e-5).flatten()\n",
    "  b = np.mean(y_train[S] - np.dot(X_train[S], w.reshape(-1,1)))\n",
    "  return w,b\n",
    "\n",
    "w,b = fit_model(X_train, y_train)"
   ]
  },
  {
   "cell_type": "code",
   "execution_count": 9,
   "metadata": {},
   "outputs": [
    {
     "name": "stdout",
     "output_type": "stream",
     "text": [
      "Accuracy: 0.7734375\n"
     ]
    }
   ],
   "source": [
    "from sklearn import metrics\n",
    "\n",
    "def evaluate_model(X_test: np.array, y_test: np.array, w: np.array, b: float):\n",
    "  X_test = np.asarray( X_test )\n",
    "  n_test = X_test.shape[0]\n",
    "  prod = np.dot(X_test,w) + np.full(n_test,b)\n",
    "  y_pred = np.sign(prod)\n",
    "\n",
    "  # Model Accuracy: how often is the classifier correct?\n",
    "  print(\"Accuracy:\",metrics.accuracy_score(y_test, y_pred))\n",
    "\n",
    "evaluate_model(X_test, y_test, w, b)"
   ]
  },
  {
   "cell_type": "code",
   "execution_count": 10,
   "metadata": {},
   "outputs": [
    {
     "name": "stderr",
     "output_type": "stream",
     "text": [
      "/home/manojturaga/.local/lib/python3.10/site-packages/sklearn/utils/validation.py:1183: DataConversionWarning: A column-vector y was passed when a 1d array was expected. Please change the shape of y to (n_samples, ), for example using ravel().\n",
      "  y = column_or_1d(y, warn=True)\n"
     ]
    },
    {
     "name": "stdout",
     "output_type": "stream",
     "text": [
      "Accuracy: 0.7838541666666666\n",
      "Precision: 0.6699029126213593\n",
      "Recall: 0.5847457627118644\n"
     ]
    }
   ],
   "source": [
    "from sklearn import svm\n",
    "\n",
    "#Create a svm Classifier\n",
    "clf = svm.SVC(kernel='linear') # Linear Kernel\n",
    "\n",
    "#Train the model using the training sets\n",
    "clf.fit(X_train, y_train)\n",
    "\n",
    "#Predict the response for test dataset\n",
    "y_pred = clf.predict(X_test)\n",
    "\n",
    "# Model Accuracy: how often is the classifier correct?\n",
    "print(\"Accuracy:\",metrics.accuracy_score(y_test, y_pred))\n",
    "\n",
    "# Model Precision: what percentage of positive tuples are labeled as such?\n",
    "print(\"Precision:\",metrics.precision_score(y_test, y_pred))\n",
    "\n",
    "# Model Recall: what percentage of positive tuples are labelled as such?\n",
    "print(\"Recall:\",metrics.recall_score(y_test, y_pred))"
   ]
  }
 ],
 "metadata": {
  "kernelspec": {
   "display_name": ".venv",
   "language": "python",
   "name": "python3"
  },
  "language_info": {
   "codemirror_mode": {
    "name": "ipython",
    "version": 3
   },
   "file_extension": ".py",
   "mimetype": "text/x-python",
   "name": "python",
   "nbconvert_exporter": "python",
   "pygments_lexer": "ipython3",
   "version": "3.10.12"
  }
 },
 "nbformat": 4,
 "nbformat_minor": 2
}
